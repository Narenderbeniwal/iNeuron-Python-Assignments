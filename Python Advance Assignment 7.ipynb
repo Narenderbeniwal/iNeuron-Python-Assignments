{
 "cells": [
  {
   "cell_type": "raw",
   "metadata": {},
   "source": [
    "\n",
    "\n",
    "\n"
   ]
  },
  {
   "cell_type": "markdown",
   "metadata": {},
   "source": [
    "## Q1. What is the purpose of the try statement?\n",
    "\n",
    "Sol: Try and Except statement is used to handle these errors within our code in Python. The try block is used to check some code for errors i.e the code inside the try block will execute when there is no error in the program. Whereas the code inside the except block will execute whenever the program encounters some error in the preceding try block.\n",
    "\n",
    "try:\n",
    "\n",
    "    # Some Code\n",
    "    \n",
    "except:\n",
    "\n",
    "    # Executed if error in the\n",
    "    # try block\n",
    "\n",
    "How try() works? \n",
    " \n",
    "\n",
    "First, the try clause is executed i.e. the code between try and except clause.\n",
    "\n",
    "If there is no exception, then only the try clause will run, except the clause is finished.\n",
    "\n",
    "If any exception occurs, the try clause will be skipped and except clause will run.\n",
    "\n",
    "If any exception occurs, but the except clause within the code doesn’t handle it, it is passed on to the outer try statements. If the exception is left unhandled, then the execution stops.\n",
    "\n",
    "A try statement can have more than one except clause\n"
   ]
  },
  {
   "cell_type": "markdown",
   "metadata": {},
   "source": [
    "## Q2. What are the two most popular try statement variations?\n",
    "Sol: \n",
    "    Error in Python can be of two types i.e. Syntax errors and Exceptions. Errors are the problems in a program due to which the program will stop the execution. On the other hand, exceptions are raised when some internal events occur which changes the normal flow of the program.\n",
    "    \n",
    "Some of the common Exception Errors are : \n",
    " \n",
    "\n",
    "IOError: if the file can’t be opened\n",
    "\n",
    "KeyboardInterrupt: when an unrequired key is pressed by the user\n",
    "\n",
    "ValueError: when built-in function receives a wrong argument\n",
    "\n",
    "EOFError: if End-Of-File is hit without reading any data\n",
    "\n",
    "ImportError: if it is unable to find the module\n"
   ]
  },
  {
   "cell_type": "markdown",
   "metadata": {},
   "source": [
    "## Q3. What is the purpose of the raise statement?\n",
    "\n",
    "Sol: The raise keyword is used to raise an exception. You can define what kind of error to raise, and the text to print to the user.\n"
   ]
  },
  {
   "cell_type": "markdown",
   "metadata": {},
   "source": [
    "## Q4. What does the assert statement do, and what other statement is it like?\n",
    "\n",
    "Sol: Assert statement takes an expression and optional message. Assert statement is used to check types, values of argument and the output of the function. Assert statement is used as debugging tool as it halts the program at the point where an error occurs.\n",
    "\n",
    "     "
   ]
  },
  {
   "cell_type": "markdown",
   "metadata": {},
   "source": [
    "## Q5. What is the purpose of the withstatement in python?\n",
    "\n",
    "Sol: With statement in Python is used in exception handling to make the code cleaner and much more readable. It simplifies the management of common resources like file streams."
   ]
  },
  {
   "cell_type": "code",
   "execution_count": null,
   "metadata": {},
   "outputs": [],
   "source": []
  }
 ],
 "metadata": {
  "kernelspec": {
   "display_name": "Python 3",
   "language": "python",
   "name": "python3"
  },
  "language_info": {
   "codemirror_mode": {
    "name": "ipython",
    "version": 3
   },
   "file_extension": ".py",
   "mimetype": "text/x-python",
   "name": "python",
   "nbconvert_exporter": "python",
   "pygments_lexer": "ipython3",
   "version": "3.8.5"
  }
 },
 "nbformat": 4,
 "nbformat_minor": 4
}
