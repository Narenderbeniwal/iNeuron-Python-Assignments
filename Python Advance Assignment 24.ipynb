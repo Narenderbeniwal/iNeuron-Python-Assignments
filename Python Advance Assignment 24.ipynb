{
 "cells": [
  {
   "cell_type": "raw",
   "metadata": {},
   "source": [
    "Q1. Is it permissible to use several import statements to import the same module? What would the\n",
    "goal be? Can you think of a situation where it would be beneficial?\n",
    "\n",
    "Q2. What are some of a module characteristics? (Name at least one.)\n",
    "\n",
    "Q3. Circular importing, such as when two modules import each other, can lead to dependencies and\n",
    "bugs that arent visible. How can you go about creating a program that avoids mutual importing?\n",
    "\n",
    "Q4. Why is _ _all_ _ in Python?\n",
    "\n",
    "Q5. In what situation is it useful to refer to the _ _name_ _ attribute or the string &_ _main_ _;?\n",
    "\n",
    "Q6. What are some of the benefits of attaching a program counter to the RPN interpreter\n",
    "application, which interprets an RPN script line by line?\n",
    "\n",
    "Q7. What are the minimum expressions or statements (or both) that you  need to render a basic\n",
    "programming language like RPN primitive but complete— that is, capable of carrying out any\n",
    "computerised task theoretically possible?"
   ]
  },
  {
   "cell_type": "markdown",
   "metadata": {},
   "source": [
    "## Q1. Is it permissible to use several import statements to import the same module? What would the goal be? Can you think of a situation where it would be beneficial?\n",
    "\n",
    "Sol: Yes, is it permissible to use several import statements to import the same module. You will simply get a reference to the module that has already been imported (it will come from sys.modules).\n",
    "\n",
    "\n",
    "The rules are quite simple: the same module is evaluated only once, in other words, the module-level scope is executed just once. If the module, once evaluated, is imported again, it's second evaluation is skipped and the resolved already exports are used.\n"
   ]
  },
  {
   "cell_type": "markdown",
   "metadata": {},
   "source": [
    "## Q2. What are some of a module characteristics? (Name at least one.)\n",
    "Sol:\n",
    "\n",
    "Characteristics of Modules:\n",
    "\n",
    "1. Modules contain instructions, processing logic, and data.\n",
    "2. Modules can be separately compiled and stored in a library.\n",
    "3. Modules can be included in a program.\n",
    "4. Module segments can be used by invoking a name and some parameters.\n",
    "5. Module segments can be used by other modules"
   ]
  },
  {
   "cell_type": "markdown",
   "metadata": {},
   "source": [
    "## Q3. Circular importing, such as when two modules import each other, can lead to dependencies and bugs that arent visible. How can you go about creating a program that avoids mutual importing?\n",
    "\n",
    "Sol: \n",
    "  In general, circular imports are the result of bad designs. A deeper analysis of the program could have concluded that the dependency isn't actually required, or that the depended functionality can be moved to different modules that wouldn't contain the circular reference.\n",
    "\n",
    "A simple solution is that sometimes both modules can just be merged into a single, larger module."
   ]
  },
  {
   "cell_type": "markdown",
   "metadata": {},
   "source": [
    "## Q4. Why is _ _all_ _ in Python?\n",
    "\n",
    "Sol: Python __all__ is a list of public objects of that module, as interpreted by import *.\n"
   ]
  },
  {
   "cell_type": "markdown",
   "metadata": {},
   "source": [
    "## Q5. In what situation is it useful to refer to the _ _name_ _ attribute or the string _ _main_ _?\n",
    "\n",
    "Sol:\n",
    "    This built-in attributes prints the name of the class, type, function, method, descriptor, or generator instance. For example, if the python interpreter is running that module (the source file) as the main program, it sets the special __name__ variable to have a value \"__main__\".\n"
   ]
  },
  {
   "cell_type": "code",
   "execution_count": null,
   "metadata": {},
   "outputs": [],
   "source": [
    "## Q6. What are some of the benefits of attaching a program counter to the RPN interpreter application, which interprets an RPN script line by line?"
   ]
  }
 ],
 "metadata": {
  "kernelspec": {
   "display_name": "Python 3",
   "language": "python",
   "name": "python3"
  },
  "language_info": {
   "codemirror_mode": {
    "name": "ipython",
    "version": 3
   },
   "file_extension": ".py",
   "mimetype": "text/x-python",
   "name": "python",
   "nbconvert_exporter": "python",
   "pygments_lexer": "ipython3",
   "version": "3.8.5"
  }
 },
 "nbformat": 4,
 "nbformat_minor": 4
}
