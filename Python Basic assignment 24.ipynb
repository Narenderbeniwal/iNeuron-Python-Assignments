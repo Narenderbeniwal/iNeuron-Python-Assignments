{
 "cells": [
  {
   "cell_type": "markdown",
   "metadata": {},
   "source": [
    "1. What is the relationship between def statements and lambda expressions ?\n",
    "2. What is the benefit of lambda?\n",
    "3. Compare and contrast map, filter, and reduce.\n",
    "4. What are function annotations, and how are they used?\n",
    "5. What are recursive functions, and how are they used?\n",
    "6. What are some general design guidelines for coding functions?\n",
    "7. Name three or more ways that functions can communicate results to a caller.\n"
   ]
  },
  {
   "cell_type": "markdown",
   "metadata": {},
   "source": [
    "## Q. 1. What is the relationship between def statements and lambda expressions ?\n",
    "Sol: \n",
    "\n",
    "The only difference is that (a) the body of a lambda can consist of only a single expression, the result of which is returned from the function created and (b) a lambda expression is an expression which evaluates to a function object, while a def statement has no value, and creates a function object and binds it to a name.\n",
    "\n",
    "### Lambda functions: are operator can have any number of arguments, but it can have only one expression. It cannot contain any statements and it returns a function object which can be assigned to any variable. They can be used in the block they were created.\n",
    "\n",
    "### def functions: Functions help break our program into smaller and modular chunks. As our program grows larger and larger, functions make it more organised and manageable. They can be called and used anywhere we want.\n",
    "\n",
    "Here you can get more clear difference by following example\n",
    "### Defining a function\n",
    "def add(a,b):\n",
    "\n",
    "      return a+b\n",
    "      \n",
    "    print(add(4,5))\n",
    "### Defining a lambda\n",
    "add = lambda x, y : x + y \n",
    "\n",
    "print(add(4,5))\n"
   ]
  },
  {
   "cell_type": "markdown",
   "metadata": {},
   "source": [
    "## Q. 2. What is the benefit of lambda?\n",
    "Sol: \n",
    "\n",
    "The lambda keyword in Python provides a shortcut for declaring small anonymous functions. Lambda functions behave just like regular functions declared with the def keyword. They can be used whenever function objects are required.\n"
   ]
  },
  {
   "cell_type": "markdown",
   "metadata": {},
   "source": [
    "## Q. 3. Compare and contrast map, filter, and reduce.\n",
    "Sol:\n",
    "\n",
    "Map creates a new array by transforming every element in an array individually. \n",
    "\n",
    "Filter creates a new array by removing elements that don't belong. \n",
    "\n",
    "Reduce , on the other hand, takes all of the elements in an array and reduces them into a single value."
   ]
  },
  {
   "cell_type": "markdown",
   "metadata": {},
   "source": [
    "## Q. 4. What are function annotations, and how are they used?\n",
    "Sol:\n",
    "     Function annotations are completely optional both for parameters and return value. Function annotations provide a way of associating various parts of a function with arbitrary python expressions at compile time."
   ]
  },
  {
   "cell_type": "markdown",
   "metadata": {},
   "source": [
    "## Q. 5. What are recursive functions, and how are they used?\n",
    "\n",
    "Sol:\n",
    "\n",
    "A recursive function is a function that calls itself during its execution. The process may repeat several times, outputting the result and the end of each iteration.\n",
    "\n",
    "The function Count() below uses recursion to count from any number between 1 and 9, to the number 10. For example, Count(1) would return 2,3,4,5,6,7,8,9,10. Count(7) would return 8,9,10. The result could be used as a roundabout way to subtract the number from 10.\n",
    "\n",
    "Recursive functions allow programmers to write efficient programs using a minimal amount of code. The downside is that they can cause infinite loops and other unexpected results if not written properly. For example, in the example above, the function is terminated if the number is 0 or less or greater than 9. If proper cases are not included in a recursive function to stop the execution, it will repeat forever, causing the program to crash or become unresponsive.\n",
    "\n",
    "\n"
   ]
  },
  {
   "cell_type": "markdown",
   "metadata": {},
   "source": [
    "## Q.6. What are some general design guidelines for coding functions?\n",
    "Sol:\n",
    "1. Safe: It can be used without causing harm.\n",
    "2. Secure: It can't be hacked.\n",
    "3. Reliable: It functions as it should, every time.\n",
    "4. Testable: It can be tested at the code level.\n",
    "5. Maintainable: It can be maintained, even as your codebase grows.\n",
    "6. Portable: It works the same in every environment."
   ]
  },
  {
   "cell_type": "markdown",
   "metadata": {},
   "source": [
    "## Q. 7. Name three or more ways that functions can communicate results to a caller.\n",
    "Sol: \n",
    "    Return command in Python specifies what value to give back to the caller of the function"
   ]
  },
  {
   "cell_type": "code",
   "execution_count": null,
   "metadata": {},
   "outputs": [],
   "source": []
  }
 ],
 "metadata": {
  "kernelspec": {
   "display_name": "Python 3",
   "language": "python",
   "name": "python3"
  },
  "language_info": {
   "codemirror_mode": {
    "name": "ipython",
    "version": 3
   },
   "file_extension": ".py",
   "mimetype": "text/x-python",
   "name": "python",
   "nbconvert_exporter": "python",
   "pygments_lexer": "ipython3",
   "version": "3.8.5"
  }
 },
 "nbformat": 4,
 "nbformat_minor": 4
}
