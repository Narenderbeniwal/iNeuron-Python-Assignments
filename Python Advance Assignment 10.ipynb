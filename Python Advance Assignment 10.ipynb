{
 "cells": [
  {
   "cell_type": "markdown",
   "metadata": {},
   "source": [
    "Q1. What is the difference between __getattr__ and __getattribute__?\n",
    "\n",
    "\n",
    "\n",
    "Q2. What is the difference between properties and descriptors?\n",
    "\n",
    "\n",
    "\n",
    "Q3. What are the key differences in functionality between __getattr__ and __getattribute__, as well as properties and descriptors?\n"
   ]
  },
  {
   "cell_type": "markdown",
   "metadata": {},
   "source": [
    "## Q1. What is the difference between __getattr__ and __getattribute__?\n",
    "Sol: \n",
    "Getattribute: Is used to retrieve an attribute from an instance. \n",
    "\n",
    "Getattr: Is executed as the last resource when attribute is not found in an object\n",
    "\n",
    "These two methods are implemented as methods of a class. __getattribute__ is always called. Essentially this method is used to find an attribute of a class. If it fails, it will raise an AttributeError. In case it fails, and class implements __getattr__, then __getattr__ is called right after. Therefore, the biggest difference is that __getattr__ is called for attributes that don’t actually exist on a class."
   ]
  },
  {
   "cell_type": "markdown",
   "metadata": {},
   "source": [
    "## Q2. What is the difference between properties and descriptors?\n",
    "Sol: \n",
    "    Descriptors are a low-level mechanism that lets you hook into an object's attributes being accessed. \n",
    "    \n",
    "    Properties are a high-level application of this; that is, properties are implemented using descriptors."
   ]
  },
  {
   "cell_type": "markdown",
   "metadata": {},
   "source": [
    "\n",
    "## Q3. What are the key differences in functionality between __getattr__ and __getattribute__, as well as properties and descriptors?\n",
    "\n",
    "### '''__getattr__\n",
    "\n",
    "Python will call __getattr__ method whenever you request an attribute that hasn't already been defined. In the following example my class Count has no __getattr__ method. Now in main when I try to access both obj1.mymin and obj1.mymax attributes everything works fine. But when I try to access obj1.mycurrent attribute -- Python gives me AttributeError: 'Count' object has no attribute 'mycurrent'\n",
    "'''\n",
    "\n",
    "class Count():\n",
    "\n",
    "    def __init__(self,mymin,mymax): \n",
    "    \n",
    "        self.mymin=mymin \n",
    "        \n",
    "        self.mymax=mymax\n",
    "\n",
    "obj1 = Count(1,10)\n",
    "\n",
    "print(obj1.mymin)\n",
    "\n",
    "print(obj1.mymax)\n",
    "\n",
    "#print(obj1.mycurrent) ## --> AttributeError: 'Count' object has no attribute 'mycurrent'\n",
    "\n",
    "#Now my class Count has __getattr__ method. Now when I try to access obj1.mycurrent attribute -- python returns me whatever I have implemented in my __getattr__ method. In my example whenever I try to call an attribute which doesn't exist, python creates that attribute and sets it to integer value 0.\n",
    "\n",
    "class Count:\n",
    "    def __init__(self,mymin,mymax): \n",
    "    \n",
    "        self.mymin=mymin\n",
    "        \n",
    "        self.mymax=mymax    \n",
    "\n",
    "    def __getattr__(self, item):\n",
    "    \n",
    "        self.__dict__[item]=0\n",
    "        \n",
    "        return 0\n",
    "\n",
    "obj1 = Count(1,10)\n",
    "\n",
    "\n",
    "print(obj1.mymin)\n",
    "\n",
    "print(obj1.mymax)\n",
    "\n",
    "print(obj1.mycurrent1)\n",
    "\n",
    "### __getattribute__\n",
    "#Now lets see the __getattribute__ method. If you have __getattribute__ method in your class, python invokes this method for every attribute regardless whether it exists or not. So why do we need __getattribute__ method? One good reason is that you can prevent access to attributes and make them more secure as shown in the following example.\n",
    "\n",
    "#Whenever someone try to access my attributes that starts with substring 'cur' python raises AttributeError exception. Otherwise it returns that attribute.\n",
    "\n",
    "\n",
    "class Count:\n",
    "\n",
    "    def __init__(self,mymin,mymax):\n",
    "        self.mymin=mymin\n",
    "        self.mymax=mymax\n",
    "        self.current=None\n",
    "   \n",
    "    def __getattribute__(self, item):\n",
    "        if item.startswith('cur'):\n",
    "            raise AttributeError\n",
    "        return object.__getattribute__(self,item) \n",
    "        # or you can use ---return super().__getattribute__(item)\n",
    "\n",
    "obj1 = Count(1,10)\n",
    "print(obj1.mymin)\n",
    "print(obj1.mymax)\n",
    "#print(obj1.current)"
   ]
  },
  {
   "cell_type": "markdown",
   "metadata": {},
   "source": []
  }
 ],
 "metadata": {
  "kernelspec": {
   "display_name": "Python 3",
   "language": "python",
   "name": "python3"
  },
  "language_info": {
   "codemirror_mode": {
    "name": "ipython",
    "version": 3
   },
   "file_extension": ".py",
   "mimetype": "text/x-python",
   "name": "python",
   "nbconvert_exporter": "python",
   "pygments_lexer": "ipython3",
   "version": "3.8.5"
  }
 },
 "nbformat": 4,
 "nbformat_minor": 4
}
