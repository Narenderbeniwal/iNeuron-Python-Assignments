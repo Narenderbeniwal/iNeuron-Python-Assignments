{
 "cells": [
  {
   "cell_type": "raw",
   "metadata": {},
   "source": [
    "Q1. Does assigning a value to a string indexed character violate Python string immutability?\n",
    "\n",
    "Q2. Does using the += operator to concatenate strings violate Python& string immutability? Why or\n",
    "why not?\n",
    "\n",
    "Q3. In Python, how many different ways are there to index a character?\n",
    "\n",
    "Q4. What is the relationship between indexing and slicing?\n",
    "\n",
    "Q5. What is an indexed character& exact data type? What is the data form of a slicing-generated\n",
    "substring?\n",
    "\n",
    "Q6. What is the relationship between string and character in Python?\n",
    "\n",
    "Q7. Identify at least two operators and one method that allow you to combine one or more smaller\n",
    "strings to create a larger string.\n",
    "\n",
    "Q8. What is the benefit of first checking the target string with in or not in before using the index\n",
    "method to find a substring?\n",
    "\n",
    "Q9. Which operators and built-in string methods produce simple Boolean (true/false) results?"
   ]
  },
  {
   "cell_type": "markdown",
   "metadata": {},
   "source": [
    "##  Q1. Does assigning a value to a string indexed character violate Python string immutability?\n",
    "\n",
    "Sol: \n",
    "    One final thing that makes strings different from some other Python collection types is that you are not allowed to modify the individual characters in the collection. It is tempting to use the [] operator on the left side of an assignment, with the intention of changing a character in a string."
   ]
  },
  {
   "cell_type": "markdown",
   "metadata": {},
   "source": [
    "## Q3. In Python, how many different ways are there to index a character?\n",
    "\n",
    "Sol:\n",
    "    \n",
    "    Each of a string's characters corresponds to an index number and each character can be accessed using their index number. We can access characters in a String in Two ways : Accessing Characters by Positive Index Number. Accessing Characters by Negative Index Number."
   ]
  },
  {
   "cell_type": "markdown",
   "metadata": {},
   "source": [
    "## Q4. What is the relationship between indexing and slicing?\n",
    "\n",
    "Sol: \n",
    "    Indexing: Indexing is used to obtain individual elements. Slicing: Slicing is used to obtain a sequence of elements. Indexing and Slicing can be be done in Python Sequences types like list, string, tuple, range objects."
   ]
  },
  {
   "cell_type": "code",
   "execution_count": 1,
   "metadata": {},
   "outputs": [],
   "source": [
    "## Q5. What is an indexed character& exact data type? What is the data form of a slicing-generated substring?\n"
   ]
  },
  {
   "cell_type": "markdown",
   "metadata": {},
   "source": [
    "## Q6. What is the relationship between string and character in Python?\n",
    "\n",
    "Sol:\n",
    "    Python string comparison is performed using the characters in both strings. ... Both the strings are exactly the same, hence they are equal. So equality operator is returning True in this case.\n"
   ]
  },
  {
   "cell_type": "markdown",
   "metadata": {},
   "source": [
    "## Q7. Identify at least two operators and one method that allow you to combine one or more smaller strings to create a larger string.\n",
    "\n",
    "Sol:\n",
    "\n",
    "Concatenation is the process of appending one string to the end of another string. You concatenate strings by using the + operator."
   ]
  },
  {
   "cell_type": "markdown",
   "metadata": {},
   "source": [
    "## Q8. What is the benefit of first checking the target string with in or not in before using the index method to find a substring?\n",
    "\n",
    "Sol ;The idea is to run a loop from start to end and for every index in the given string check whether the sub-string can be formed from that index. This can be done by running a nested loop traversing the given string and in that loop run another loop checking for sub-string from every index"
   ]
  },
  {
   "cell_type": "markdown",
   "metadata": {},
   "source": [
    "## Q9. Which operators and built-in string methods produce simple Boolean (true/false) results?\n",
    "\n",
    "Sol:\n",
    "\n",
    "Logical operators are typically used with Boolean (logical) values. When they are, they return a Boolean value. However, the && and || operators actually return the value of one of the specified operands, so if these operators are used with non-Boolean values, they will return a non-Boolean value."
   ]
  },
  {
   "cell_type": "code",
   "execution_count": null,
   "metadata": {},
   "outputs": [],
   "source": []
  }
 ],
 "metadata": {
  "kernelspec": {
   "display_name": "Python 3",
   "language": "python",
   "name": "python3"
  },
  "language_info": {
   "codemirror_mode": {
    "name": "ipython",
    "version": 3
   },
   "file_extension": ".py",
   "mimetype": "text/x-python",
   "name": "python",
   "nbconvert_exporter": "python",
   "pygments_lexer": "ipython3",
   "version": "3.8.5"
  }
 },
 "nbformat": 4,
 "nbformat_minor": 4
}
