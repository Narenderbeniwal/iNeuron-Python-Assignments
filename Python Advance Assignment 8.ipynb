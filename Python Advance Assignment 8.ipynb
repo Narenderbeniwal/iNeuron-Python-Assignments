{
 "cells": [
  {
   "cell_type": "markdown",
   "metadata": {},
   "source": [
    "Q1. What are the two latest user-defined exception constraints in Python 3.X?\n",
    "\n",
    "\n",
    "\n",
    "Q2. How are class-based exceptions that have been raised matched to handlers?\n",
    "\n",
    "\n",
    "\n",
    "Q3. Describe two methods for attaching context information to exception artefacts.\n",
    "\n",
    "\n",
    "\n",
    "Q4. Describe two methods for specifying the text of an exception object's error message.\n",
    "\n",
    "\n",
    "\n",
    "Q5. Why do you no longer use string-based exceptions?\n"
   ]
  },
  {
   "cell_type": "markdown",
   "metadata": {},
   "source": [
    "## Q1. What are the two latest user-defined exception constraints in Python 3.X?\n",
    "Sol:\n",
    "    Python throws errors and exceptions when there is a code gone wrong, which may cause the program to stop abruptly. Python also provides an exception handling method with the help of try-except. Some of the standard exceptions which are most frequent include IndexError, ImportError, IOError, ZeroDivisionError, TypeError, and FileNotFoundError. A user can create his own error using the exception class.\n",
    "    \n",
    "    Programmers may name their own exceptions by creating a new exception class. Exceptions need to be derived from the Exception class, either directly or indirectly. Although not mandatory, most of the exceptions are named as names that end in “Error” similar to the naming of the standard exceptions in python. For example: \n",
    "\n",
    "\n",
    "### class MyError is extended from super class Exception\n",
    "class User_Error(Exception):\n",
    "   ### Constructor method\n",
    "   def __init__(self, value):\n",
    "   \n",
    "      self.value = value\n",
    "   ### __str__ display function\n",
    "   def __str__(self): \n",
    "   \n",
    "      return(repr(self.value))\n",
    "      \n",
    "try:\n",
    "\n",
    "   raise(User_Error(\"User defined error\"))\n",
    "   \n",
    "   ### Value of Exception is stored in error\n",
    "except User_Error as error:\n",
    "\n",
    "   print('A New Exception occured:',error.value)\n"
   ]
  },
  {
   "cell_type": "markdown",
   "metadata": {},
   "source": [
    "## Q2. How are class-based exceptions that have been raised matched to handlers?\n",
    "Sol: \n",
    "    \n",
    "The raise statement has been extended to allow raising a class exception without explicit instantiation. The following forms, called the \"compatibility forms\" of the raise statement, are allowed: ... raise exception, argument. raise exception, (argument, argument, ...)"
   ]
  },
  {
   "cell_type": "markdown",
   "metadata": {},
   "source": [
    "## Q3. Describe two methods for attaching context information to exception artefacts.\n",
    "Sol:\n",
    "\n",
    "When raising a new exception (rather than using a bare raise to re-raise the exception currently being handled), the implicit exception context can be supplemented with an explicit cause by using from with raise:\n",
    "\n",
    "### Example\n",
    "try:\n",
    "\n",
    "    return [permission() for permission in self.permission_classes]\n",
    "    \n",
    "except TypeError as e:\n",
    "\n",
    "    raise TypeError(\"Make sure your view's 'permission_classes' are iterable. \"\n",
    "    \n",
    "                    \"If you use '()' to generate a set with a single element \"\n",
    "                    \n",
    "                    \"make sure that there is a comma behind the one (element,).\") from e"
   ]
  },
  {
   "cell_type": "markdown",
   "metadata": {},
   "source": [
    "## Q4. Describe two methods for specifying the text of an exception object's error message.\n",
    "\n",
    "Sol:The last line of the error message indicates what happened. Exceptions come in different types, and the type is printed as part of the message: the types in the example are ZeroDivisionError, NameError and TypeError. \n",
    "    \n",
    "    Traceback (most recent call last): \n",
    "    \n",
    "  File \"<stdin>\", line 1, in <module>\n",
    "    \n",
    "NameError: name 'spam' is not defined\n",
    ">>> '2' + 2\n",
    "Traceback (most recent call last):\n",
    "  File \"<stdin>\", line 1, in <module>\n",
    "TypeError: can only concatenate str (not \"int\") to str\n"
   ]
  },
  {
   "cell_type": "code",
   "execution_count": null,
   "metadata": {},
   "outputs": [],
   "source": [
    "## Q5. Why do you no longer use string-based exceptions?"
   ]
  },
  {
   "cell_type": "code",
   "execution_count": null,
   "metadata": {},
   "outputs": [],
   "source": []
  },
  {
   "cell_type": "code",
   "execution_count": null,
   "metadata": {},
   "outputs": [],
   "source": []
  }
 ],
 "metadata": {
  "kernelspec": {
   "display_name": "Python 3",
   "language": "python",
   "name": "python3"
  },
  "language_info": {
   "codemirror_mode": {
    "name": "ipython",
    "version": 3
   },
   "file_extension": ".py",
   "mimetype": "text/x-python",
   "name": "python",
   "nbconvert_exporter": "python",
   "pygments_lexer": "ipython3",
   "version": "3.8.5"
  }
 },
 "nbformat": 4,
 "nbformat_minor": 4
}
