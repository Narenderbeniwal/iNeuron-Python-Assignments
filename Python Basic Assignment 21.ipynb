{
 "cells": [
  {
   "cell_type": "raw",
   "metadata": {},
   "source": [
    "1. Add the current date to the text file today.txt as a string.\n",
    "2. Read the text file today.txt into the string today_string\n",
    "3. Parse the date from today_string.\n",
    "4. List the files in your current directory\n",
    "5. Create a list of all of the files in your parent directory (minimum five files should be available).\n",
    "6. Use multiprocessing to create three separate processes. Make each one wait a random number of seconds between one and five, print the current time, and then exit.\n",
    "7. Create a date object of your day of birth.\n",
    "8. What day of the week was your day of birth?\n",
    "9. When will you be (or when were you) 10,000 days old?"
   ]
  },
  {
   "cell_type": "code",
   "execution_count": 12,
   "metadata": {},
   "outputs": [],
   "source": [
    "## Q. 1. Add the current date to the text file today.txt as a string.\n",
    "# importing datetime module\n",
    "import datetime\n",
    "  \n",
    "# datetime.datetime.now() to get \n",
    "# current date as filename.\n",
    "filename = datetime.datetime.now()\n",
    "  \n",
    "# create empty file\n",
    "def create_file():\n",
    "    # Function creates an empty file\n",
    "    # %d - date, %B - month, %Y - Year\n",
    "    with open(filename.strftime(\"%d %B %Y\")+\".txt\", \"w\") as file:\n",
    "        file.write(\"\")\n",
    "  \n",
    "# Driver Code\n",
    "create_file()"
   ]
  },
  {
   "cell_type": "code",
   "execution_count": null,
   "metadata": {},
   "outputs": [],
   "source": [
    "## 2. Read the text file today.txt into the string today_string\n"
   ]
  },
  {
   "cell_type": "code",
   "execution_count": 14,
   "metadata": {},
   "outputs": [
    {
     "name": "stdout",
     "output_type": "stream",
     "text": [
      "The type of the date is now <class 'datetime.datetime'>\n"
     ]
    }
   ],
   "source": [
    "## 3. Parse the date from today_string.\n",
    "from datetime import datetime\n",
    "\n",
    "date_time_str = '18/09/19 01:55:19'\n",
    "\n",
    "date_time_obj = datetime. strptime(date_time_str, '%d/%m/%y %H:%M:%S')\n",
    "\n",
    "\n",
    "print (\"The type of the date is now\", type(date_time_obj))"
   ]
  },
  {
   "cell_type": "code",
   "execution_count": 16,
   "metadata": {},
   "outputs": [
    {
     "data": {
      "text/plain": [
       "['In',\n",
       " 'Out',\n",
       " '_',\n",
       " '_11',\n",
       " '__',\n",
       " '___',\n",
       " '__builtin__',\n",
       " '__builtins__',\n",
       " '__doc__',\n",
       " '__loader__',\n",
       " '__name__',\n",
       " '__package__',\n",
       " '__spec__',\n",
       " '_dh',\n",
       " '_i',\n",
       " '_i1',\n",
       " '_i10',\n",
       " '_i11',\n",
       " '_i12',\n",
       " '_i13',\n",
       " '_i14',\n",
       " '_i15',\n",
       " '_i16',\n",
       " '_i2',\n",
       " '_i3',\n",
       " '_i4',\n",
       " '_i5',\n",
       " '_i6',\n",
       " '_i7',\n",
       " '_i8',\n",
       " '_i9',\n",
       " '_ih',\n",
       " '_ii',\n",
       " '_iii',\n",
       " '_oh',\n",
       " 'create_file',\n",
       " 'date_time_obj',\n",
       " 'date_time_str',\n",
       " 'datetime',\n",
       " 'exit',\n",
       " 'filename',\n",
       " 'get_ipython',\n",
       " 'quit',\n",
       " 'todays',\n",
       " 'todays_date']"
      ]
     },
     "execution_count": 16,
     "metadata": {},
     "output_type": "execute_result"
    }
   ],
   "source": [
    "## 4. List the files in your current directory\n",
    "dir()"
   ]
  },
  {
   "cell_type": "code",
   "execution_count": 18,
   "metadata": {},
   "outputs": [
    {
     "name": "stdout",
     "output_type": "stream",
     "text": [
      "What is your B'day? (in DD/MM/YYYY) 26/12/1995\n",
      "Your B'day is : 26/December/1995\n"
     ]
    }
   ],
   "source": [
    "## 7. Create a date object of your day of birth.\n",
    "import datetime\n",
    "birthday=input(\"What is your B'day? (in DD/MM/YYYY) \")\n",
    "birthdate=datetime. datetime. strptime(birthday,\"%d/%m/%Y\"). date()\n",
    "print(\"Your B'day is : \"+birthdate. strftime('%d/%B/%Y'))"
   ]
  },
  {
   "cell_type": "code",
   "execution_count": 19,
   "metadata": {},
   "outputs": [
    {
     "name": "stdout",
     "output_type": "stream",
     "text": [
      "Tuesday\n"
     ]
    }
   ],
   "source": [
    "## 8. What day of the week was your day of birth?\n",
    "import datetime\n",
    "from datetime import date\n",
    "import calendar\n",
    " \n",
    "def findDay(date):\n",
    "    day, month, year = (int(i) for i in date.split(' '))   \n",
    "    born = datetime.date(year, month, day)\n",
    "    return born.strftime(\"%A\")\n",
    " \n",
    "# Driver program\n",
    "date = '26 12 1995'\n",
    "print(findDay(date))"
   ]
  },
  {
   "cell_type": "code",
   "execution_count": 24,
   "metadata": {},
   "outputs": [
    {
     "data": {
      "text/plain": [
       "'10000 days, 15:39:25.927277'"
      ]
     },
     "execution_count": 24,
     "metadata": {},
     "output_type": "execute_result"
    }
   ],
   "source": [
    "## 9. When will you be (or when were you) 10,000 days old?\n",
    "\n",
    "from datetime import datetime\n",
    "str(datetime.now() - datetime(1994, 8, 8))"
   ]
  },
  {
   "cell_type": "code",
   "execution_count": null,
   "metadata": {},
   "outputs": [],
   "source": []
  }
 ],
 "metadata": {
  "kernelspec": {
   "display_name": "Python 3",
   "language": "python",
   "name": "python3"
  },
  "language_info": {
   "codemirror_mode": {
    "name": "ipython",
    "version": 3
   },
   "file_extension": ".py",
   "mimetype": "text/x-python",
   "name": "python",
   "nbconvert_exporter": "python",
   "pygments_lexer": "ipython3",
   "version": "3.8.5"
  }
 },
 "nbformat": 4,
 "nbformat_minor": 4
}
